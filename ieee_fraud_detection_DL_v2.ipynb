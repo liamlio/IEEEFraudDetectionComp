{
  "nbformat": 4,
  "nbformat_minor": 0,
  "metadata": {
    "kernelspec": {
      "name": "python3",
      "display_name": "Python 3"
    },
    "colab": {
      "name": "ieee fraud detection DL v2.ipynb",
      "provenance": [],
      "collapsed_sections": [
        "sl-FK2G-9SxR"
      ],
      "machine_shape": "hm",
      "include_colab_link": true
    },
    "accelerator": "GPU"
  },
  "cells": [
    {
      "cell_type": "markdown",
      "metadata": {
        "id": "view-in-github",
        "colab_type": "text"
      },
      "source": [
        "<a href=\"https://colab.research.google.com/github/liamlio/IEEEFraudDetectionComp/blob/master/ieee_fraud_detection_DL_v2.ipynb\" target=\"_parent\"><img src=\"https://colab.research.google.com/assets/colab-badge.svg\" alt=\"Open In Colab\"/></a>"
      ]
    },
    {
      "cell_type": "code",
      "metadata": {
        "trusted": true,
        "id": "gAhk7g0c9St2",
        "colab_type": "code",
        "colab": {
          "resources": {
            "http://localhost:8080/nbextensions/google.colab/files.js": {
              "data": "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",
              "ok": true,
              "headers": [
                [
                  "content-type",
                  "application/javascript"
                ]
              ],
              "status": 200,
              "status_text": ""
            }
          },
          "base_uri": "https://localhost:8080/",
          "height": 91
        },
        "outputId": "bd16a9de-a377-4327-e5dd-c1a14b5c3eca"
      },
      "source": [
        "from google.colab import files\n",
        "files.upload()\n",
        "#Upload your kaggle.json api key"
      ],
      "execution_count": 1,
      "outputs": [
        {
          "output_type": "display_data",
          "data": {
            "text/html": [
              "\n",
              "     <input type=\"file\" id=\"files-211c561e-c25e-4162-a453-2a0cf155e43e\" name=\"files[]\" multiple disabled />\n",
              "     <output id=\"result-211c561e-c25e-4162-a453-2a0cf155e43e\">\n",
              "      Upload widget is only available when the cell has been executed in the\n",
              "      current browser session. Please rerun this cell to enable.\n",
              "      </output>\n",
              "      <script src=\"/nbextensions/google.colab/files.js\"></script> "
            ],
            "text/plain": [
              "<IPython.core.display.HTML object>"
            ]
          },
          "metadata": {
            "tags": []
          }
        },
        {
          "output_type": "stream",
          "text": [
            "Saving kaggle.json to kaggle.json\n"
          ],
          "name": "stdout"
        },
        {
          "output_type": "execute_result",
          "data": {
            "text/plain": [
              "{'kaggle.json': b'{\"username\":\"liamlio\",\"key\":\"32d0c187f3ae18696e9889dd18b5baf3\"}'}"
            ]
          },
          "metadata": {
            "tags": []
          },
          "execution_count": 1
        }
      ]
    },
    {
      "cell_type": "code",
      "metadata": {
        "id": "MmwnUBK29iVd",
        "colab_type": "code",
        "colab": {}
      },
      "source": [
        "#Moving the kaggle.json file into the .kaggle/ directory\n",
        "!mkdir -p ~/.kaggle \n",
        "!cp kaggle.json ~/.kaggle/\n",
        "!chmod 600 /root/.kaggle/kaggle.json"
      ],
      "execution_count": 0,
      "outputs": []
    },
    {
      "cell_type": "code",
      "metadata": {
        "id": "UzumXJ3M9rqC",
        "colab_type": "code",
        "colab": {
          "base_uri": "https://localhost:8080/",
          "height": 289
        },
        "outputId": "1dbd8600-b046-4fe5-a4d0-59140a9f8cf2"
      },
      "source": [
        "!kaggle competitions download -c ieee-fraud-detection \n",
        "#Download the dataset from the kaggle api"
      ],
      "execution_count": 3,
      "outputs": [
        {
          "output_type": "stream",
          "text": [
            "Warning: Looks like you're using an outdated API Version, please consider updating (server 1.5.6 / client 1.5.4)\n",
            "Downloading train_transaction.csv.zip to /content\n",
            " 63% 33.0M/52.5M [00:00<00:00, 32.9MB/s]\n",
            "100% 52.5M/52.5M [00:00<00:00, 67.5MB/s]\n",
            "Downloading train_identity.csv.zip to /content\n",
            "  0% 0.00/3.02M [00:00<?, ?B/s]\n",
            "100% 3.02M/3.02M [00:00<00:00, 204MB/s]\n",
            "Downloading test_transaction.csv.zip to /content\n",
            " 70% 33.0M/47.3M [00:00<00:00, 51.1MB/s]\n",
            "100% 47.3M/47.3M [00:00<00:00, 87.7MB/s]\n",
            "Downloading test_identity.csv.zip to /content\n",
            "  0% 0.00/2.97M [00:00<?, ?B/s]\n",
            "100% 2.97M/2.97M [00:00<00:00, 199MB/s]\n",
            "Downloading sample_submission.csv.zip to /content\n",
            "  0% 0.00/1.14M [00:00<?, ?B/s]\n",
            "100% 1.14M/1.14M [00:00<00:00, 163MB/s]\n"
          ],
          "name": "stdout"
        }
      ]
    },
    {
      "cell_type": "code",
      "metadata": {
        "id": "fgsZDRy89vnT",
        "colab_type": "code",
        "colab": {}
      },
      "source": [
        "#unzip all the dataset (this will take a minute to appear in the /content directory)\n",
        "import zipfile\n",
        "with zipfile.ZipFile(\"test_identity.csv.zip\",\"r\") as zip_ref:\n",
        "    zip_ref.extractall('/content')\n",
        "with zipfile.ZipFile(\"test_transaction.csv.zip\",\"r\") as zip_ref:\n",
        "    zip_ref.extractall('/content')\n",
        "with zipfile.ZipFile(\"train_identity.csv.zip\",\"r\") as zip_ref:\n",
        "    zip_ref.extractall('/content')\n",
        "with zipfile.ZipFile(\"train_transaction.csv.zip\",\"r\") as zip_ref:\n",
        "    zip_ref.extractall('/content')"
      ],
      "execution_count": 0,
      "outputs": []
    },
    {
      "cell_type": "code",
      "metadata": {
        "trusted": true,
        "id": "Vv4e_EoR9SuO",
        "colab_type": "code",
        "colab": {}
      },
      "source": [
        "#from comet_ml import Experiment\n",
        "from fastai.tabular import *\n",
        "from sklearn import preprocessing\n",
        "from sklearn.decomposition import PCA, KernelPCA"
      ],
      "execution_count": 0,
      "outputs": []
    },
    {
      "cell_type": "code",
      "metadata": {
        "trusted": true,
        "id": "qownaVsS9Suy",
        "colab_type": "code",
        "colab": {}
      },
      "source": [
        "def load_df(mode = 'train'):\n",
        "    df = pd.read_csv(f'{mode}_transaction.csv')\n",
        "    # (590540, 434)\n",
        "    dfi = pd.read_csv(f'{mode}_identity.csv')\n",
        "    df =  pd.merge(df, dfi, how='left', on='TransactionID')\n",
        "    return df\n"
      ],
      "execution_count": 0,
      "outputs": []
    },
    {
      "cell_type": "code",
      "metadata": {
        "trusted": true,
        "id": "hNO-ilK99Su4",
        "colab_type": "code",
        "colab": {}
      },
      "source": [
        "df = load_df()"
      ],
      "execution_count": 0,
      "outputs": []
    },
    {
      "cell_type": "code",
      "metadata": {
        "trusted": true,
        "id": "kN-Eur9M9Su8",
        "colab_type": "code",
        "colab": {}
      },
      "source": [
        "# OLD STUFF\n",
        "# dep_var = 'isFraud'\n",
        "# cat_names = [\n",
        "#               # Transaction\n",
        "#               'ProductCD', 'addr1', 'addr2', 'P_emaildomain', 'R_emaildomain',\n",
        "#               *[f'card{i}' for i in range(1,7)],\n",
        "#               *[f'M{i}' for i in range(1,10)],\n",
        "#               # Identity\n",
        "#               'DeviceType', 'DeviceInfo', \n",
        "#                *[f'id_{i}' for i in range(12,39)],\n",
        "#              ]\n",
        "# cont_names = list(set(df.columns)-set(cat_names)-{dep_var})\n",
        "# df = df.sort_values('TransactionDT')\n",
        "# #The fact that it's NaN could be a good indicator\n",
        "# # for col in df.columns:\n",
        "# #     if col in cat_names:\n",
        "# #         df[col].fillna('NaN')\n",
        "\n",
        "# # cat_names = ['id_12', 'id_13', 'id_14', 'id_15', 'id_16', 'id_17', 'id_18', 'id_19', 'id_20', 'id_21', 'id_22', 'id_23', 'id_24', 'id_25', 'id_26', 'id_27', 'id_28', 'id_29',\n",
        "# #             'id_30', 'id_31', 'id_32', 'id_33', 'id_34', 'id_35', 'id_36', 'id_37', 'id_38', 'DeviceType', 'DeviceInfo', 'ProductCD', 'card4', 'card6', 'M4','P_emaildomain',\n",
        "# #             'R_emaildomain', 'card1', 'card2', 'card3',  'card5', 'addr1', 'addr2', 'M1', 'M2', 'M3', 'M5', 'M6', 'M7', 'M8', 'M9',\n",
        "# #             'P_emaildomain']\n",
        "# # cont_names = [i for i in df.keys() if i not in cat_names]\n",
        "\n",
        "# # Following SafeBox Kernel\n",
        "# # drop_col = ['isFraud', 'TransactionID', 'TransactionDT', 'V300', 'V309', 'V111', 'C3', 'V124', 'V106', 'V125',\n",
        "# #             'V315', 'V134', 'V102', 'V123', 'V316', 'V113', 'V136', 'V305', 'V110', 'V299', 'V289', 'V286',\n",
        "# #             'V318', 'V103', 'V304', 'V116', 'V298', 'V284', 'V293', 'V137', 'V295', 'V301', 'V104', 'V311', \n",
        "# #             'V115', 'V109', 'V119', 'V321', 'V114', 'V133', 'V122', 'V319', 'V105', 'V112', 'V118', 'V117', \n",
        "# #             'V121', 'V108', 'V135', 'V320', 'V303', 'V297', 'V120']\n",
        "# # for c in drop_col:\n",
        "# #     if c in cat_names:\n",
        "# #         cat_names.remove(c)\n",
        "# #     else:\n",
        "# #         cont_names.remove(c)\n",
        "\n",
        "# procs = [FillMissing, Categorify, Normalize] # Order matters\n",
        "# path = '';\n",
        "# metrics = [AUROC()]\n",
        "# label_cls = CategoryList\n",
        "# log = False\n",
        "# y_range = None\n",
        "# kwargs = {'log': log} if log else {}\n"
      ],
      "execution_count": 0,
      "outputs": []
    },
    {
      "cell_type": "code",
      "metadata": {
        "trusted": true,
        "id": "YSMQW9aE9SvL",
        "colab_type": "code",
        "colab": {}
      },
      "source": [
        "# Memory saving function credit to https://www.kaggle.com/gemartin/load-data-reduce-memory-usage\n",
        "# def reduce_mem_usage(df):\n",
        "#     \"\"\" iterate through all the columns of a dataframe and modify the data type\n",
        "#         to reduce memory usage.\n",
        "#     \"\"\"\n",
        "#     start_mem = df.memory_usage().sum() / 1024**2\n",
        "    \n",
        "#     for col in df.columns:\n",
        "#         col_type = df[col].dtype\n",
        "        \n",
        "#         if col_type != object:\n",
        "#             c_min = df[col].min()\n",
        "#             c_max = df[col].max()\n",
        "#             if str(col_type)[:3] == 'int':\n",
        "#                 if c_min > np.iinfo(np.int8).min and c_max < np.iinfo(np.int8).max:\n",
        "#                     df[col] = df[col].astype(np.int8)\n",
        "#                 elif c_min > np.iinfo(np.int16).min and c_max < np.iinfo(np.int16).max:\n",
        "#                     df[col] = df[col].astype(np.int16)\n",
        "#                 elif c_min > np.iinfo(np.int32).min and c_max < np.iinfo(np.int32).max:\n",
        "#                     df[col] = df[col].astype(np.int32)\n",
        "#                 elif c_min > np.iinfo(np.int64).min and c_max < np.iinfo(np.int64).max:\n",
        "#                     df[col] = df[col].astype(np.int64)  \n",
        "#             else:\n",
        "#                 if c_min > np.finfo(np.float16).min and c_max < np.finfo(np.float16).max:\n",
        "#                     df[col] = df[col].astype(np.float16)\n",
        "#                 elif c_min > np.finfo(np.float32).min and c_max < np.finfo(np.float32).max:\n",
        "#                     df[col] = df[col].astype(np.float32)\n",
        "#                 else:\n",
        "#                     df[col] = df[col].astype(np.float64)\n",
        "#         #else:\n",
        "#             #df[col] = df[col].astype('category')\n",
        "\n",
        "#     end_mem = df.memory_usage().sum() / 1024**2\n",
        "#     print('Memory usage of dataframe is {:.2f} MB --> {:.2f} MB (Decreased by {:.1f}%)'.format(\n",
        "#         start_mem, end_mem, 100 * (start_mem - end_mem) / start_mem))\n",
        "#     return df\n",
        "    #This function seems to reduce results from the neural net"
      ],
      "execution_count": 0,
      "outputs": []
    },
    {
      "cell_type": "code",
      "metadata": {
        "trusted": true,
        "id": "FD2ix3St9SvQ",
        "colab_type": "code",
        "colab": {}
      },
      "source": [
        "#X_train = reduce_mem_usage(X_train)\n",
        "#X_test = pd.merge(test_trn[trn_cols], test_id[id_cols], how='left')\n",
        "\n",
        "#df_train_id = df.pop('TransactionID')\n",
        "#X_test_id = X_test.pop('TransactionID')\n",
        "\n",
        "#all_data = df\n",
        "#Ran into memory problems trying to process both the test and train set together\n",
        "# :(\n"
      ],
      "execution_count": 0,
      "outputs": []
    },
    {
      "cell_type": "code",
      "metadata": {
        "trusted": true,
        "id": "hDborHlA9Svb",
        "colab_type": "code",
        "colab": {}
      },
      "source": [
        "# vcols = [f'V{i}' for i in range(1,340)]\n",
        "\n",
        "# sc = preprocessing.MinMaxScaler()\n",
        "\n",
        "# pca = PCA(n_components=2) #0.99\n",
        "# vcol_pca = pca.fit_transform(sc.fit_transform(all_data[vcols].fillna(-1)))\n",
        "\n",
        "# all_data['_vcol_pca0'] = vcol_pca[:,0]\n",
        "# all_data['_vcol_pca1'] = vcol_pca[:,1]\n",
        "# all_data['_vcol_nulls'] = all_data[vcols].isnull().sum(axis=1)\n",
        "\n",
        "# all_data.drop(vcols, axis=1, inplace=True)\n",
        "\n",
        "###Higher results without minizing dimensionality of the V features###"
      ],
      "execution_count": 0,
      "outputs": []
    },
    {
      "cell_type": "code",
      "metadata": {
        "trusted": true,
        "id": "0hUvvRHY9Svn",
        "colab_type": "code",
        "colab": {}
      },
      "source": [
        "#all_data = df\n",
        "import datetime\n",
        "\n",
        "START_DATE = '2017-12-01'\n",
        "startdate = datetime.datetime.strptime(START_DATE, \"%Y-%m-%d\")\n",
        "all_data['Date'] = all_data['TransactionDT'].apply(lambda x: (startdate + datetime.timedelta(seconds=x)))\n",
        "all_data['_weekday'] = all_data['Date'].dt.dayofweek\n",
        "all_data['_hour'] = all_data['Date'].dt.hour\n",
        "all_data['_day'] = all_data['Date'].dt.day\n",
        "\n",
        "all_data['_weekday'] = all_data['_weekday'].astype(str)\n",
        "all_data['_hour'] = all_data['_hour'].astype(str)\n",
        "#all_data['_weekday__hour'] = all_data['_weekday'] + all_data['_hour']\n",
        "\n",
        "# cnt_day = all_data['_day'].value_counts()\n",
        "# cnt_day = cnt_day / cnt_day.mean()\n",
        "# all_data['_count_rate'] = cnt_day #all_data['_day'].map(cnt_day.to_dict())\n",
        "\n",
        "all_data.drop(['TransactionDT','Date','_day'], axis=1, inplace=True)"
      ],
      "execution_count": 0,
      "outputs": []
    },
    {
      "cell_type": "code",
      "metadata": {
        "id": "y3Sf-y32hsRA",
        "colab_type": "code",
        "colab": {
          "base_uri": "https://localhost:8080/",
          "height": 51
        },
        "outputId": "de8c428b-4d6e-412b-8bab-c943313c6b5a"
      },
      "source": [
        "# all_data['_weekday'].unique()\n",
        "# all_data['_hour'].unique()"
      ],
      "execution_count": 70,
      "outputs": [
        {
          "output_type": "execute_result",
          "data": {
            "text/plain": [
              "array(['0', '1', '2', '3', '4', '5', '6', '7', '8', '9', '10', '11', '12', '13', '14', '15', '16', '17', '18', '19',\n",
              "       '20', '21', '22', '23'], dtype=object)"
            ]
          },
          "metadata": {
            "tags": []
          },
          "execution_count": 70
        }
      ]
    },
    {
      "cell_type": "code",
      "metadata": {
        "trusted": true,
        "id": "0Y0urMwP9Svr",
        "colab_type": "code",
        "colab": {}
      },
      "source": [
        "all_data['_P_emaildomain__addr1'] = all_data['P_emaildomain'] + '__' + all_data['addr1'].astype(str)\n",
        "all_data['_card1__card2'] = all_data['card1'].astype(str) + '__' + all_data['card2'].astype(str)\n",
        "all_data['_card1__addr1'] = all_data['card1'].astype(str) + '__' + all_data['addr1'].astype(str)\n",
        "all_data['_card2__addr1'] = all_data['card2'].astype(str) + '__' + all_data['addr1'].astype(str)\n",
        "all_data['_card12__addr1'] = all_data['_card1__card2'] + '__' + all_data['addr1'].astype(str)\n",
        "all_data['_card_all__addr1'] = all_data['_card1__card2'] + '__' + all_data['addr1'].astype(str)\n",
        "# Turn all of these into fractions instead of categories. So continuous numbers"
      ],
      "execution_count": 0,
      "outputs": []
    },
    {
      "cell_type": "code",
      "metadata": {
        "trusted": true,
        "id": "eYeq1sto9Svv",
        "colab_type": "code",
        "colab": {}
      },
      "source": [
        "# all_data['_amount_decimal'] = ((all_data['TransactionAmt'] - all_data['TransactionAmt'].astype(int)) * 1000).astype(int)\n",
        "# all_data['_amount_decimal_len'] = all_data['TransactionAmt'].apply(lambda x: len(re.sub('0+$', '', str(x)).split('.')[1]))\n",
        "# all_data['_amount_fraction'] = all_data['TransactionAmt'].apply(lambda x: float('0.'+re.sub('^[0-9]|\\.|0+$', '', str(x))))\n",
        "# #all_data[['TransactionAmt','_amount_decimal','_amount_decimal_len','_amount_fraction']].head(10)"
      ],
      "execution_count": 0,
      "outputs": []
    },
    {
      "cell_type": "code",
      "metadata": {
        "trusted": true,
        "id": "2s-1EKfE9Sv2",
        "colab_type": "code",
        "colab": {}
      },
      "source": [
        "# all_data['TransactionAmt_to_mean_card1'] = all_data['TransactionAmt'] / all_data.groupby(['card1'])['TransactionAmt'].transform('mean')\n",
        "# all_data['TransactionAmt_to_mean_card4'] = all_data['TransactionAmt'] / all_data.groupby(['card4'])['TransactionAmt'].transform('mean')\n",
        "# all_data['TransactionAmt_to_std_card1'] = all_data['TransactionAmt'] / all_data.groupby(['card1'])['TransactionAmt'].transform('std')\n",
        "# all_data['TransactionAmt_to_std_card4'] = all_data['TransactionAmt'] / all_data.groupby(['card4'])['TransactionAmt'].transform('std')\n",
        "\n",
        "# all_data['id_02_to_mean_card1'] = all_data['id_02'] / all_data.groupby(['card1'])['id_02'].transform('mean')\n",
        "# all_data['id_02_to_mean_card4'] = all_data['id_02'] / all_data.groupby(['card4'])['id_02'].transform('mean')\n",
        "# all_data['id_02_to_std_card1'] = all_data['id_02'] / all_data.groupby(['card1'])['id_02'].transform('std')\n",
        "# all_data['id_02_to_std_card4'] = all_data['id_02'] / all_data.groupby(['card4'])['id_02'].transform('std')\n",
        "\n",
        "# all_data['D15_to_mean_card1'] = all_data['D15'] / all_data.groupby(['card1'])['D15'].transform('mean')\n",
        "# all_data['D15_to_mean_card4'] = all_data['D15'] / all_data.groupby(['card4'])['D15'].transform('mean')\n",
        "# all_data['D15_to_std_card1'] = all_data['D15'] / all_data.groupby(['card1'])['D15'].transform('std')\n",
        "# all_data['D15_to_std_card4'] = all_data['D15'] / all_data.groupby(['card4'])['D15'].transform('std')\n",
        "\n",
        "# all_data['D15_to_mean_addr1'] = all_data['D15'] / all_data.groupby(['addr1'])['D15'].transform('mean')\n",
        "# all_data['D15_to_mean_addr2'] = all_data['D15'] / all_data.groupby(['addr2'])['D15'].transform('mean')\n",
        "# all_data['D15_to_std_addr1'] = all_data['D15'] / all_data.groupby(['addr1'])['D15'].transform('std')\n",
        "# all_data['D15_to_std_addr2'] = all_data['D15'] / all_data.groupby(['addr2'])['D15'].transform('std')"
      ],
      "execution_count": 0,
      "outputs": []
    },
    {
      "cell_type": "code",
      "metadata": {
        "trusted": true,
        "id": "J44SB76j9Sv7",
        "colab_type": "code",
        "colab": {
          "base_uri": "https://localhost:8080/",
          "height": 71
        },
        "outputId": "f1fb9d42-4ada-4cc1-f727-2b263ce54858"
      },
      "source": [
        "\n",
        "cat_cols = ['ProductCD','card1','card2','card3','card4','card5','card6','addr1','addr2',\n",
        "            'P_emaildomain','R_emaildomain',\n",
        "             'M1','M2','M3','M4','M5','M6','M7','M8', '_hour',\n",
        "            'M9','DeviceType','DeviceInfo'] + [f'id_{i}' for i in range(12,39)]\n",
        "\n",
        "\n",
        "\n",
        "for i, t in df.loc[:, df.columns != 'isFraud'].dtypes.iteritems():\n",
        "    if t == object:\n",
        "        cat_cols.append(i)\n",
        "        all_data[i] = all_data[i].astype(str)\n",
        "        all_data[i].fillna('unknown', inplace=True)\n",
        "        #all_data[i] = pd.factorize(all_data[i])[0]\n",
        "        #all_data[i] = all_data[i].astype('category')\n",
        "cat_cols = list(set(cat_cols))\n",
        "print(cat_cols)\n",
        "\n",
        "enc_cols = []\n",
        "for i, t in df.loc[:, df.columns != 'isFraud'].dtypes.iteritems():\n",
        "    if t == object:\n",
        "        cat_cols.append(i)\n",
        "        enc_cols.append(i)\n",
        "        all_data[f'{i}__fac'] = pd.factorize(all_data[i])[0]\n",
        "        #all_data[i] = all_data[i].astype('category')\n",
        "print(enc_cols)\n",
        "cat_cols = list(set(cat_cols))"
      ],
      "execution_count": 58,
      "outputs": [
        {
          "output_type": "stream",
          "text": [
            "['M3', 'M5', 'M6', 'id_13', 'addr1', '_card12__addr1', 'id_15', 'M1', 'P_emaildomain', 'id_23', 'id_30', 'DeviceType', 'id_36', '_hour', 'M9', 'id_18', 'id_37', 'M8', 'id_25', 'id_38', '_card_all__addr1', 'card6', 'DeviceInfo', 'id_12', 'id_24', 'R_emaildomain', 'id_32', 'id_35', 'id_27', 'id_26', 'id_33', '_weekday', 'id_21', '_card2__addr1', 'M7', 'id_16', 'card4', 'addr2', 'id_28', 'card3', '_card1__card2', 'card1', 'card2', 'M4', 'M2', 'id_17', 'id_31', '_card1__addr1', '_P_emaildomain__addr1', 'id_19', 'ProductCD', 'id_34', 'id_14', 'card5', 'id_20', 'id_22', 'id_29']\n",
            "['ProductCD', 'card4', 'card6', 'P_emaildomain', 'R_emaildomain', 'M1', 'M2', 'M3', 'M4', 'M5', 'M6', 'M7', 'M8', 'M9', 'id_12', 'id_15', 'id_16', 'id_23', 'id_27', 'id_28', 'id_29', 'id_30', 'id_31', 'id_33', 'id_34', 'id_35', 'id_36', 'id_37', 'id_38', 'DeviceType', 'DeviceInfo', '_weekday', '_hour', '_P_emaildomain__addr1', '_card1__card2', '_card1__addr1', '_card2__addr1', '_card12__addr1', '_card_all__addr1']\n"
          ],
          "name": "stdout"
        }
      ]
    },
    {
      "cell_type": "code",
      "metadata": {
        "id": "eDL8u9W2j3kA",
        "colab_type": "code",
        "colab": {}
      },
      "source": [
        "# def clean_inf_nan(df):\n",
        "#     return df.replace([np.inf, -np.inf], np.nan) \n",
        "# df = clean_inf_nan(df)\n",
        "# for col in df.columns:\n",
        "#   if col in cat_cols:\n",
        "#     df[col].fillna('NaN')\n"
      ],
      "execution_count": 0,
      "outputs": []
    },
    {
      "cell_type": "code",
      "metadata": {
        "id": "_PrnGnrokWF3",
        "colab_type": "code",
        "colab": {}
      },
      "source": [
        "dep_var = 'isFraud'\n",
        "cont_cols = list(set(all_data.columns)-set(cat_cols)-{dep_var})\n",
        "#Following SafeBox Kernel and dropping highly correlated features\n",
        "drop_col = ['V300','V309','V111','V124','V106','V125','V315','V134','V102','V123','V316','V113',\n",
        "              'V136','V305','V110','V299','V289','V286','V318','V304','V116','V284','V293',\n",
        "              'V137','V295','V301','V104','V311','V115','V109','V119','V321','V114','V133','V122','V319',\n",
        "              'V105','V112','V118','V117','V121','V108','V135','V320','V303','V297','V120',\n",
        "              'V1','V14','V41','V65','V88', 'V89', 'V107', 'V68', 'V28', 'V27', 'V29', 'V241','V269',\n",
        "              'V240', 'V325', 'V138', 'V154', 'V153', 'V330', 'V142', 'V195', 'V302', 'V328', 'V327', \n",
        "              'V198', 'V196', 'V155']\n",
        "for c in drop_col:\n",
        "    if c in cat_cols:\n",
        "        cat_cols.remove(c)\n",
        "    else:\n",
        "        cont_cols.remove(c)"
      ],
      "execution_count": 0,
      "outputs": []
    },
    {
      "cell_type": "code",
      "metadata": {
        "id": "kSjXTsVEA6HF",
        "colab_type": "code",
        "colab": {}
      },
      "source": [
        "# embed_cat_cols = {}\n",
        "# for col in cat_cols:\n",
        "#     embed_cat_cols[col] = 10"
      ],
      "execution_count": 0,
      "outputs": []
    },
    {
      "cell_type": "code",
      "metadata": {
        "id": "HZan3kpQ4zFj",
        "colab_type": "code",
        "colab": {}
      },
      "source": [
        "# all_data = df"
      ],
      "execution_count": 0,
      "outputs": []
    },
    {
      "cell_type": "code",
      "metadata": {
        "trusted": true,
        "id": "Zd7T65tg9SwH",
        "colab_type": "code",
        "colab": {}
      },
      "source": [
        "df = all_data\n",
        "#df_test = all_data[all_data['isFraud'].isnull()].drop('isFraud', axis=1)\n",
        "#Y_train = X_train.pop('isFraud')\n",
        "del all_data"
      ],
      "execution_count": 0,
      "outputs": []
    },
    {
      "cell_type": "code",
      "metadata": {
        "trusted": true,
        "id": "gV18A9639SwK",
        "colab_type": "code",
        "colab": {}
      },
      "source": [
        "# !git clone https://github.com/sdoria/mish "
      ],
      "execution_count": 0,
      "outputs": []
    },
    {
      "cell_type": "code",
      "metadata": {
        "trusted": true,
        "id": "m1p9zrUV9SwO",
        "colab_type": "code",
        "colab": {}
      },
      "source": [
        "# #Functions\n",
        "# %cd mish\n",
        "# from rangerlars import *\n",
        "# from mish import *\n",
        "# from mxresnet import *\n",
        "# from ranger import *"
      ],
      "execution_count": 0,
      "outputs": []
    },
    {
      "cell_type": "code",
      "metadata": {
        "trusted": true,
        "id": "9aihm_gm9SwS",
        "colab_type": "code",
        "colab": {}
      },
      "source": [
        "procs = [FillMissing, Categorify, Normalize] # Order matters\n",
        "path = '';\n",
        "metrics = [AUROC(), accuracy]\n",
        "label_cls = CategoryList\n",
        "y_range = None\n",
        "dep_var = 'isFraud'"
      ],
      "execution_count": 0,
      "outputs": []
    },
    {
      "cell_type": "code",
      "metadata": {
        "trusted": true,
        "id": "FPPHRTiO9Swb",
        "colab_type": "code",
        "colab": {}
      },
      "source": [
        "bs=4096\n",
        "split_idx=int(0.9*df.shape[0])\n",
        "# Take one sample of NA for each column\n",
        "na_idxs = np.unique(np.concatenate([np.where(df[k].isna())[0][0:1] for k in df.keys()]))\n",
        "train_idxs = np.concatenate([\n",
        "    np.arange(split_idx),\n",
        "    na_idxs[np.where(na_idxs>split_idx)],\n",
        "])\n",
        "valid_idxs = np.setdiff1d(arange_of(df), train_idxs)\n",
        "# train_idxs.shape, valid_idxs.shape\n",
        "# data = TabularList.from_df(df, path=path, procs=procs, cont_names=cont_cols, cat_names=cat_cols) \\\n",
        "#     .split_by_idxs(train_idxs, valid_idxs) \\\n",
        "#     .label_from_df(cols=dep_var, label_cls=label_cls, **kwargs).databunch(bs=bs)\n",
        "\n",
        "#valid_idx = range(int(np.ceil(len(df)-0.2*len(df))), len(df))\n",
        "data = TabularDataBunch.from_df(path, df, dep_var, valid_idx=valid_idxs, procs=procs, cat_names=cat_cols, \n",
        "                               bs=bs) "
      ],
      "execution_count": 0,
      "outputs": []
    },
    {
      "cell_type": "code",
      "metadata": {
        "trusted": true,
        "id": "bp8JyM3D9Swp",
        "colab_type": "code",
        "colab": {}
      },
      "source": [
        "len(data.train_ds), len(data.valid_ds)"
      ],
      "execution_count": 0,
      "outputs": []
    },
    {
      "cell_type": "code",
      "metadata": {
        "trusted": true,
        "id": "JwXTvhA49Sww",
        "colab_type": "code",
        "colab": {}
      },
      "source": [
        "#act_fn = Mish()\n",
        "#opt_func = partial(Ranger, betas=(0.9,0.99), eps=1e-6)\n",
        "from torch.nn.modules.loss import NLLLoss, CrossEntropyLoss"
      ],
      "execution_count": 0,
      "outputs": []
    },
    {
      "cell_type": "code",
      "metadata": {
        "trusted": true,
        "id": "MI1S1tan9Sw0",
        "colab_type": "code",
        "colab": {}
      },
      "source": [
        "# learn = tabular_learner(data_bunch, layers=[200, 100], ps=[0.001, 0.01], \n",
        "#                         emb_drop=0.04, metrics=metrics, y_range=y_range, emb_szs=embed_cat_cols)\n",
        "#                        #opt_func=opt_func)\n",
        "learn = tabular_learner(data, layers=[200, 100], #emb_szs=embed_cat_cols,\n",
        "               bn_wd=False, true_wd=True, metrics=metrics, emb_drop=0.04,\n",
        "               loss_func=LabelSmoothingCrossEntropy())# ps=[0.001, 0.01])\n",
        "               #loss_func=LabelSmoothingCrossEntropy())\n",
        "                # opt_func=opt_func)\n",
        "                #loss_func=LabelSmoothingCrossEntropy(),"
      ],
      "execution_count": 0,
      "outputs": []
    },
    {
      "cell_type": "code",
      "metadata": {
        "id": "I1_TbRli5tfq",
        "colab_type": "code",
        "colab": {}
      },
      "source": [
        "learn"
      ],
      "execution_count": 0,
      "outputs": []
    },
    {
      "cell_type": "code",
      "metadata": {
        "trusted": true,
        "id": "TvkZxMpp9Sw5",
        "colab_type": "code",
        "colab": {}
      },
      "source": [
        "learn.lr_find(stop_div=True, num_it=100)\n",
        "learn.recorder.plot()\n"
      ],
      "execution_count": 0,
      "outputs": []
    },
    {
      "cell_type": "code",
      "metadata": {
        "trusted": true,
        "id": "2uL3OjkB9Sw-",
        "colab_type": "code",
        "colab": {
          "base_uri": "https://localhost:8080/",
          "height": 142
        },
        "outputId": "de4cd5b0-a4d5-426c-824a-7af8fefe5b89"
      },
      "source": [
        "# experiment = Experiment(api_key=\"mvOjAWu7j7F4yvKipHGocF3ew\", project_name=\"ieee\", workspace=\"liamlio\")\n",
        "# with experiment.train():\n",
        "learn.fit_one_cycle(3)\n",
        "# learn.fit_one_cycle(1, 1e-2, wd=0.2)\n",
        "# learn.fit_one_cycle(3, 1e-3, wd=0.2)\n"
      ],
      "execution_count": 47,
      "outputs": [
        {
          "output_type": "display_data",
          "data": {
            "text/html": [
              "<table border=\"1\" class=\"dataframe\">\n",
              "  <thead>\n",
              "    <tr style=\"text-align: left;\">\n",
              "      <th>epoch</th>\n",
              "      <th>train_loss</th>\n",
              "      <th>valid_loss</th>\n",
              "      <th>auroc</th>\n",
              "      <th>accuracy</th>\n",
              "      <th>time</th>\n",
              "    </tr>\n",
              "  </thead>\n",
              "  <tbody>\n",
              "    <tr>\n",
              "      <td>0</td>\n",
              "      <td>0.323278</td>\n",
              "      <td>0.313103</td>\n",
              "      <td>0.876279</td>\n",
              "      <td>0.969790</td>\n",
              "      <td>01:11</td>\n",
              "    </tr>\n",
              "    <tr>\n",
              "      <td>1</td>\n",
              "      <td>0.238557</td>\n",
              "      <td>0.270560</td>\n",
              "      <td>0.877601</td>\n",
              "      <td>0.972618</td>\n",
              "      <td>01:11</td>\n",
              "    </tr>\n",
              "    <tr>\n",
              "      <td>2</td>\n",
              "      <td>0.224354</td>\n",
              "      <td>0.263005</td>\n",
              "      <td>0.879103</td>\n",
              "      <td>0.972161</td>\n",
              "      <td>01:10</td>\n",
              "    </tr>\n",
              "  </tbody>\n",
              "</table>"
            ],
            "text/plain": [
              "<IPython.core.display.HTML object>"
            ]
          },
          "metadata": {
            "tags": []
          }
        }
      ]
    },
    {
      "cell_type": "code",
      "metadata": {
        "trusted": true,
        "id": "T82WDmZN9SxE",
        "colab_type": "code",
        "colab": {
          "base_uri": "https://localhost:8080/",
          "height": 267
        },
        "outputId": "68a2029c-7091-4bd6-ffea-59e41df55cc6"
      },
      "source": [
        "\n",
        "\n",
        "from fastai.callbacks.tracker import EarlyStoppingCallback\n",
        "cbs=[EarlyStoppingCallback(learn, monitor='auroc', min_delta=0.001, patience=3, )]\n",
        "\n",
        "learn.fit_one_cycle(30, 1e-4, wd=0.2, callbacks=cbs)"
      ],
      "execution_count": 48,
      "outputs": [
        {
          "output_type": "display_data",
          "data": {
            "text/html": [
              "\n",
              "    <div>\n",
              "        <style>\n",
              "            /* Turns off some styling */\n",
              "            progress {\n",
              "                /* gets rid of default border in Firefox and Opera. */\n",
              "                border: none;\n",
              "                /* Needs to be in here for Safari polyfill so background images work as expected. */\n",
              "                background-size: auto;\n",
              "            }\n",
              "            .progress-bar-interrupted, .progress-bar-interrupted::-webkit-progress-bar {\n",
              "                background: #F44336;\n",
              "            }\n",
              "        </style>\n",
              "      <progress value='5' class='' max='30', style='width:300px; height:20px; vertical-align: middle;'></progress>\n",
              "      16.67% [5/30 05:54<29:33]\n",
              "    </div>\n",
              "    \n",
              "<table border=\"1\" class=\"dataframe\">\n",
              "  <thead>\n",
              "    <tr style=\"text-align: left;\">\n",
              "      <th>epoch</th>\n",
              "      <th>train_loss</th>\n",
              "      <th>valid_loss</th>\n",
              "      <th>auroc</th>\n",
              "      <th>accuracy</th>\n",
              "      <th>time</th>\n",
              "    </tr>\n",
              "  </thead>\n",
              "  <tbody>\n",
              "    <tr>\n",
              "      <td>0</td>\n",
              "      <td>0.220487</td>\n",
              "      <td>0.265357</td>\n",
              "      <td>0.876123</td>\n",
              "      <td>0.971890</td>\n",
              "      <td>01:10</td>\n",
              "    </tr>\n",
              "    <tr>\n",
              "      <td>1</td>\n",
              "      <td>0.220314</td>\n",
              "      <td>0.262742</td>\n",
              "      <td>0.877519</td>\n",
              "      <td>0.971873</td>\n",
              "      <td>01:10</td>\n",
              "    </tr>\n",
              "    <tr>\n",
              "      <td>2</td>\n",
              "      <td>0.220073</td>\n",
              "      <td>0.265694</td>\n",
              "      <td>0.874343</td>\n",
              "      <td>0.971822</td>\n",
              "      <td>01:10</td>\n",
              "    </tr>\n",
              "    <tr>\n",
              "      <td>3</td>\n",
              "      <td>0.219517</td>\n",
              "      <td>0.267629</td>\n",
              "      <td>0.871366</td>\n",
              "      <td>0.972093</td>\n",
              "      <td>01:10</td>\n",
              "    </tr>\n",
              "    <tr>\n",
              "      <td>4</td>\n",
              "      <td>0.219385</td>\n",
              "      <td>0.269624</td>\n",
              "      <td>0.877603</td>\n",
              "      <td>0.971992</td>\n",
              "      <td>01:11</td>\n",
              "    </tr>\n",
              "  </tbody>\n",
              "</table><p>\n",
              "\n",
              "    <div>\n",
              "        <style>\n",
              "            /* Turns off some styling */\n",
              "            progress {\n",
              "                /* gets rid of default border in Firefox and Opera. */\n",
              "                border: none;\n",
              "                /* Needs to be in here for Safari polyfill so background images work as expected. */\n",
              "                background-size: auto;\n",
              "            }\n",
              "            .progress-bar-interrupted, .progress-bar-interrupted::-webkit-progress-bar {\n",
              "                background: #F44336;\n",
              "            }\n",
              "        </style>\n",
              "      <progress value='15' class='' max='15', style='width:300px; height:20px; vertical-align: middle;'></progress>\n",
              "      100.00% [15/15 00:02<00:00]\n",
              "    </div>\n",
              "    "
            ],
            "text/plain": [
              "<IPython.core.display.HTML object>"
            ]
          },
          "metadata": {
            "tags": []
          }
        },
        {
          "output_type": "stream",
          "text": [
            "Epoch 5: early stopping\n"
          ],
          "name": "stdout"
        }
      ]
    },
    {
      "cell_type": "code",
      "metadata": {
        "trusted": true,
        "id": "WRPg1jeu9SxK",
        "colab_type": "code",
        "colab": {}
      },
      "source": [
        "filename='ieee12'\n",
        "#!mkdir models\n",
        "learn.export(f'models/{filename}.pkl')"
      ],
      "execution_count": 0,
      "outputs": []
    },
    {
      "cell_type": "code",
      "metadata": {
        "trusted": true,
        "id": "df0VEG7Z9SxP",
        "colab_type": "code",
        "colab": {
          "base_uri": "https://localhost:8080/",
          "height": 34
        },
        "outputId": "0a7550f3-4072-442b-a81d-0ed91deaa738"
      },
      "source": [
        "# Cleanup\n",
        "\n",
        "del learn\n",
        "#del df\n",
        "import gc\n",
        "del df\n",
        "gc.collect()"
      ],
      "execution_count": 50,
      "outputs": [
        {
          "output_type": "execute_result",
          "data": {
            "text/plain": [
              "23"
            ]
          },
          "metadata": {
            "tags": []
          },
          "execution_count": 50
        }
      ]
    },
    {
      "cell_type": "markdown",
      "metadata": {
        "id": "sl-FK2G-9SxR",
        "colab_type": "text"
      },
      "source": [
        "# Test"
      ]
    },
    {
      "cell_type": "code",
      "metadata": {
        "trusted": true,
        "id": "pxxeT2yT9SxS",
        "colab_type": "code",
        "colab": {
          "base_uri": "https://localhost:8080/",
          "height": 34
        },
        "outputId": "d3490942-2768-4d15-b552-330d596df7cb"
      },
      "source": [
        "%cd /content\n",
        "df_test = load_df('test')"
      ],
      "execution_count": 51,
      "outputs": [
        {
          "output_type": "stream",
          "text": [
            "/content\n"
          ],
          "name": "stdout"
        }
      ]
    },
    {
      "cell_type": "code",
      "metadata": {
        "trusted": true,
        "id": "pHJNpJts9SxV",
        "colab_type": "code",
        "colab": {}
      },
      "source": [
        "df_test[dep_var] = 0"
      ],
      "execution_count": 0,
      "outputs": []
    },
    {
      "cell_type": "code",
      "metadata": {
        "id": "cY7o4Uq8eOG6",
        "colab_type": "code",
        "colab": {}
      },
      "source": [
        "all_data = df_test"
      ],
      "execution_count": 0,
      "outputs": []
    },
    {
      "cell_type": "code",
      "metadata": {
        "trusted": true,
        "id": "oWWe9inl9Sxb",
        "colab_type": "code",
        "colab": {}
      },
      "source": [
        "import datetime\n",
        "\n",
        "START_DATE = '2017-12-01'\n",
        "startdate = datetime.datetime.strptime(START_DATE, \"%Y-%m-%d\")\n",
        "all_data['Date'] = all_data['TransactionDT'].apply(lambda x: (startdate + datetime.timedelta(seconds=x)))\n",
        "all_data['_weekday'] = all_data['Date'].dt.dayofweek\n",
        "all_data['_hour'] = all_data['Date'].dt.hour\n",
        "all_data['_day'] = all_data['Date'].dt.day\n",
        "\n",
        "all_data['_weekday'] = all_data['_weekday'].astype(str)\n",
        "all_data['_hour'] = all_data['_hour'].astype(str)\n",
        "all_data['_weekday__hour'] = all_data['_weekday'] + all_data['_hour']\n",
        "\n",
        "cnt_day = all_data['_day'].value_counts()\n",
        "cnt_day = cnt_day / cnt_day.mean()\n",
        "all_data['_count_rate'] = all_data['_day'].map(cnt_day.to_dict())\n",
        "\n",
        "all_data.drop(['TransactionDT','Date','_day'], axis=1, inplace=True)"
      ],
      "execution_count": 0,
      "outputs": []
    },
    {
      "cell_type": "code",
      "metadata": {
        "id": "zYuZGkvyeUy5",
        "colab_type": "code",
        "colab": {}
      },
      "source": [
        "all_data['_P_emaildomain__addr1'] = all_data['P_emaildomain'] + '__' + all_data['addr1'].astype(str)\n",
        "all_data['_card1__card2'] = all_data['card1'].astype(str) + '__' + all_data['card2'].astype(str)\n",
        "all_data['_card1__addr1'] = all_data['card1'].astype(str) + '__' + all_data['addr1'].astype(str)\n",
        "all_data['_card2__addr1'] = all_data['card2'].astype(str) + '__' + all_data['addr1'].astype(str)\n",
        "all_data['_card12__addr1'] = all_data['_card1__card2'] + '__' + all_data['addr1'].astype(str)\n",
        "all_data['_card_all__addr1'] = all_data['_card1__card2'] + '__' + all_data['addr1'].astype(str)\n",
        "# Turn all of these into fractions instead of categories. So continuous numbers"
      ],
      "execution_count": 0,
      "outputs": []
    },
    {
      "cell_type": "code",
      "metadata": {
        "id": "P1hRhqzGe8N8",
        "colab_type": "code",
        "colab": {}
      },
      "source": [
        "cat_cols = ['ProductCD','card1','card2','card3','card4','card5','card6','addr1','addr2',\n",
        "            'P_emaildomain','R_emaildomain',\n",
        "             'M1','M2','M3','M4','M5','M6','M7','M8', '_hour',\n",
        "            'M9','DeviceType','DeviceInfo'] + [f'id_{i}' for i in range(12,39)]\n",
        "\n",
        "\n",
        "\n",
        "for i, t in df.loc[:, df.columns != 'isFraud'].dtypes.iteritems():\n",
        "    if t == object:\n",
        "        cat_cols.append(i)\n",
        "        all_data[i] = all_data[i].astype(str)\n",
        "        all_data[i].fillna('unknown', inplace=True)\n",
        "        #all_data[i] = pd.factorize(all_data[i])[0]\n",
        "        #all_data[i] = all_data[i].astype('category')\n",
        "cat_cols = list(set(cat_cols))\n",
        "print(cat_cols)\n",
        "\n",
        "enc_cols = []\n",
        "for i, t in df.loc[:, df.columns != 'isFraud'].dtypes.iteritems():\n",
        "    if t == object:\n",
        "        cat_cols.append(i)\n",
        "        enc_cols.append(i)\n",
        "        all_data[f'{i}__fac'] = pd.factorize(all_data[i])[0]\n",
        "        #all_data[i] = all_data[i].astype('category')\n",
        "print(enc_cols)\n",
        "cat_cols = list(set(cat_cols))"
      ],
      "execution_count": 0,
      "outputs": []
    },
    {
      "cell_type": "code",
      "metadata": {
        "id": "-n4vFUQ6YiKy",
        "colab_type": "code",
        "colab": {}
      },
      "source": [
        "dep_var = 'isFraud'\n",
        "cont_cols = list(set(all_data.columns)-set(cat_cols)-{dep_var})\n",
        "#Following SafeBox Kernel and dropping highly correlated features\n",
        "drop_col = ['V300','V309','V111','V124','V106','V125','V315','V134','V102','V123','V316','V113',\n",
        "              'V136','V305','V110','V299','V289','V286','V318','V304','V116','V284','V293',\n",
        "              'V137','V295','V301','V104','V311','V115','V109','V119','V321','V114','V133','V122','V319',\n",
        "              'V105','V112','V118','V117','V121','V108','V135','V320','V303','V297','V120',\n",
        "              'V1','V14','V41','V65','V88', 'V89', 'V107', 'V68', 'V28', 'V27', 'V29', 'V241','V269',\n",
        "              'V240', 'V325', 'V138', 'V154', 'V153', 'V330', 'V142', 'V195', 'V302', 'V328', 'V327', \n",
        "              'V198', 'V196', 'V155']\n",
        "for c in drop_col:\n",
        "    if c in cat_cols:\n",
        "        cat_cols.remove(c)\n",
        "    else:\n",
        "        cont_cols.remove(c)"
      ],
      "execution_count": 0,
      "outputs": []
    },
    {
      "cell_type": "code",
      "metadata": {
        "id": "XHPEmMZaeff_",
        "colab_type": "code",
        "colab": {}
      },
      "source": [
        "df_test = all_data\n",
        "del all_data"
      ],
      "execution_count": 0,
      "outputs": []
    },
    {
      "cell_type": "code",
      "metadata": {
        "trusted": true,
        "id": "JFqg_UEa9Sxx",
        "colab_type": "code",
        "colab": {}
      },
      "source": [
        "filename='ieee12'"
      ],
      "execution_count": 0,
      "outputs": []
    },
    {
      "cell_type": "code",
      "metadata": {
        "id": "RiofyUjkWqfK",
        "colab_type": "code",
        "colab": {
          "base_uri": "https://localhost:8080/",
          "height": 34
        },
        "outputId": "b8a2c360-67ac-453d-b452-fa08c5f9267b"
      },
      "source": [
        "tr = pd.isnull(df_test['C13'])\n",
        "df_test[tr]= -1\n",
        "pd.isnull(df_test['C13']).sum(0)"
      ],
      "execution_count": 80,
      "outputs": [
        {
          "output_type": "execute_result",
          "data": {
            "text/plain": [
              "0"
            ]
          },
          "metadata": {
            "tags": []
          },
          "execution_count": 80
        }
      ]
    },
    {
      "cell_type": "code",
      "metadata": {
        "trusted": true,
        "id": "ndvKBKkF9Sx3",
        "colab_type": "code",
        "colab": {}
      },
      "source": [
        "learn = load_learner(\n",
        "    '',\n",
        "    f'models/{filename}.pkl', \n",
        "    TabularList.from_df(df_test, path=path, cat_names=cat_cols, cont_names=cont_cols, procs=procs),\n",
        "    bs=bs\n",
        ")"
      ],
      "execution_count": 0,
      "outputs": []
    },
    {
      "cell_type": "code",
      "metadata": {
        "trusted": true,
        "id": "fQuxR_JA9Sx9",
        "colab_type": "code",
        "colab": {}
      },
      "source": [
        "test_preds, targs = learn.get_preds(ds_type=DatasetType.Test)"
      ],
      "execution_count": 0,
      "outputs": []
    },
    {
      "cell_type": "code",
      "metadata": {
        "trusted": true,
        "id": "D6J3a1BA9SyC",
        "colab_type": "code",
        "colab": {
          "base_uri": "https://localhost:8080/",
          "height": 34
        },
        "outputId": "ee5d1a10-8ac6-4e00-e0f2-8379b27793c9"
      },
      "source": [
        "len(np.where(test_preds[:, 1]>0.5)[0])"
      ],
      "execution_count": 52,
      "outputs": [
        {
          "output_type": "execute_result",
          "data": {
            "text/plain": [
              "0"
            ]
          },
          "metadata": {
            "tags": []
          },
          "execution_count": 52
        }
      ]
    },
    {
      "cell_type": "code",
      "metadata": {
        "trusted": true,
        "id": "ag8n9CXs9SyE",
        "colab_type": "code",
        "colab": {}
      },
      "source": [
        "# Sanity check\n",
        "assert(len(np.where(test_preds[:, 1]>0.5)[0])>8000)"
      ],
      "execution_count": 0,
      "outputs": []
    },
    {
      "cell_type": "code",
      "metadata": {
        "trusted": true,
        "id": "0k9N6y0a9SyG",
        "colab_type": "code",
        "colab": {}
      },
      "source": [
        "submission = df_test[['TransactionID']].copy()\n",
        "submission['isFraud']=test_preds[:, 1]"
      ],
      "execution_count": 0,
      "outputs": []
    },
    {
      "cell_type": "code",
      "metadata": {
        "id": "eo-vKFFkgCjW",
        "colab_type": "code",
        "colab": {}
      },
      "source": [
        "submission.head()"
      ],
      "execution_count": 0,
      "outputs": []
    },
    {
      "cell_type": "code",
      "metadata": {
        "trusted": true,
        "id": "RsTInmSN9SyT",
        "colab_type": "code",
        "colab": {}
      },
      "source": [
        "name = filename\n",
        "submission.to_csv('submission.csv', index=False, header=True)"
      ],
      "execution_count": 0,
      "outputs": []
    },
    {
      "cell_type": "code",
      "metadata": {
        "trusted": true,
        "id": "fW86XHS_9Syb",
        "colab_type": "code",
        "colab": {
          "base_uri": "https://localhost:8080/",
          "height": 34
        },
        "outputId": "f9d33fcd-980c-4f9a-9a7c-a27224b3a734"
      },
      "source": [
        "from IPython.display import FileLink\n",
        "FileLink(r'submission.csv')"
      ],
      "execution_count": 58,
      "outputs": [
        {
          "output_type": "execute_result",
          "data": {
            "text/html": [
              "<a href='submission.csv' target='_blank'>submission.csv</a><br>"
            ],
            "text/plain": [
              "/content/submission.csv"
            ]
          },
          "metadata": {
            "tags": []
          },
          "execution_count": 58
        }
      ]
    }
  ]
}